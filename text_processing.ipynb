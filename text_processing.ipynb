{
 "cells": [
  {
   "cell_type": "markdown",
   "metadata": {},
   "source": [
    "# Text Processing\n",
    "\n",
    "## Capturing Text Data\n",
    "\n",
    "### Plain Text"
   ]
  },
  {
   "cell_type": "code",
   "execution_count": 1,
   "metadata": {},
   "outputs": [
    {
     "name": "stdout",
     "output_type": "stream",
     "text": [
      "Hieroglyphic writing dates from c. 3000 BC, and is composed of hundreds of symbols. A hieroglyph can represent a word, a sound, or a silent determinative; and the same symbol can serve different purposes in different contexts. Hieroglyphs were a formal script, used on stone monuments and in tombs, that could be as detailed as individual works of art.\n",
      "\n"
     ]
    }
   ],
   "source": [
    "import os\n",
    "\n",
    "# Read in a plain text file\n",
    "with open(os.path.join(\"data\", \"hieroglyph.txt\"), \"r\") as f:\n",
    "    text = f.read()\n",
    "    print(text)"
   ]
  },
  {
   "cell_type": "markdown",
   "metadata": {},
   "source": [
    "### Tabular Data"
   ]
  },
  {
   "cell_type": "code",
   "execution_count": 2,
   "metadata": {
    "scrolled": true
   },
   "outputs": [
    {
     "data": {
      "text/html": [
       "<div>\n",
       "<style scoped>\n",
       "    .dataframe tbody tr th:only-of-type {\n",
       "        vertical-align: middle;\n",
       "    }\n",
       "\n",
       "    .dataframe tbody tr th {\n",
       "        vertical-align: top;\n",
       "    }\n",
       "\n",
       "    .dataframe thead th {\n",
       "        text-align: right;\n",
       "    }\n",
       "</style>\n",
       "<table border=\"1\" class=\"dataframe\">\n",
       "  <thead>\n",
       "    <tr style=\"text-align: right;\">\n",
       "      <th></th>\n",
       "      <th>publisher</th>\n",
       "      <th>title</th>\n",
       "    </tr>\n",
       "  </thead>\n",
       "  <tbody>\n",
       "    <tr>\n",
       "      <th>0</th>\n",
       "      <td>Livemint</td>\n",
       "      <td>fed's charles plosser sees high bar for change...</td>\n",
       "    </tr>\n",
       "    <tr>\n",
       "      <th>1</th>\n",
       "      <td>IFA Magazine</td>\n",
       "      <td>us open: stocks fall after fed official hints ...</td>\n",
       "    </tr>\n",
       "    <tr>\n",
       "      <th>2</th>\n",
       "      <td>IFA Magazine</td>\n",
       "      <td>fed risks falling 'behind the curve', charles ...</td>\n",
       "    </tr>\n",
       "    <tr>\n",
       "      <th>3</th>\n",
       "      <td>Moneynews</td>\n",
       "      <td>fed's plosser: nasty weather has curbed job gr...</td>\n",
       "    </tr>\n",
       "    <tr>\n",
       "      <th>4</th>\n",
       "      <td>NASDAQ</td>\n",
       "      <td>plosser: fed may have to accelerate tapering pace</td>\n",
       "    </tr>\n",
       "  </tbody>\n",
       "</table>\n",
       "</div>"
      ],
      "text/plain": [
       "      publisher                                              title\n",
       "0      Livemint  fed's charles plosser sees high bar for change...\n",
       "1  IFA Magazine  us open: stocks fall after fed official hints ...\n",
       "2  IFA Magazine  fed risks falling 'behind the curve', charles ...\n",
       "3     Moneynews  fed's plosser: nasty weather has curbed job gr...\n",
       "4        NASDAQ  plosser: fed may have to accelerate tapering pace"
      ]
     },
     "execution_count": 2,
     "metadata": {},
     "output_type": "execute_result"
    }
   ],
   "source": [
    "import pandas as pd\n",
    "\n",
    "# Extract text column from a dataframe\n",
    "df = pd.read_csv(os.path.join(\"data\", \"news.csv\"))\n",
    "df.head()[['publisher', 'title']]\n",
    "\n",
    "# Convert text column to lowercase\n",
    "df['title'] = df['title'].str.lower()\n",
    "df.head()[['publisher', 'title']]"
   ]
  },
  {
   "cell_type": "markdown",
   "metadata": {},
   "source": [
    "### Online Resource"
   ]
  },
  {
   "cell_type": "code",
   "execution_count": 3,
   "metadata": {
    "scrolled": true
   },
   "outputs": [
    {
     "name": "stdout",
     "output_type": "stream",
     "text": [
      "{\n",
      "    \"success\": {\n",
      "        \"total\": 1\n",
      "    },\n",
      "    \"contents\": {\n",
      "        \"quotes\": [\n",
      "            {\n",
      "                \"quote\": \"Each player must accept the cards life deals him or her: but once they are in hand, he or she alone must decide how to play the cards in order to win the game.\",\n",
      "                \"length\": \"159\",\n",
      "                \"author\": \"Voltaire\",\n",
      "                \"tags\": [\n",
      "                    \"game\",\n",
      "                    \"games\",\n",
      "                    \"inspire\",\n",
      "                    \"order\",\n",
      "                    \"tso-life\"\n",
      "                ],\n",
      "                \"category\": \"inspire\",\n",
      "                \"language\": \"en\",\n",
      "                \"date\": \"2020-08-30\",\n",
      "                \"permalink\": \"https://theysaidso.com/quote/voltaire-each-player-must-accept-the-cards-life-deals-him-or-her-but-once-they-a\",\n",
      "                \"id\": \"GhK26WkA8I_Mk3ZSV6evAQeF\",\n",
      "                \"background\": \"https://theysaidso.com/img/qod/qod-inspire.jpg\",\n",
      "                \"title\": \"Inspiring Quote of the day\"\n",
      "            }\n",
      "        ]\n",
      "    },\n",
      "    \"baseurl\": \"https://theysaidso.com\",\n",
      "    \"copyright\": {\n",
      "        \"year\": 2022,\n",
      "        \"url\": \"https://theysaidso.com\"\n",
      "    }\n",
      "}\n",
      "Each player must accept the cards life deals him or her: but once they are in hand, he or she alone must decide how to play the cards in order to win the game. \n",
      "-- Voltaire\n"
     ]
    }
   ],
   "source": [
    "import requests\n",
    "import json\n",
    "\n",
    "# Fetch data from a REST API\n",
    "r = requests.get(\n",
    "    \"https://quotes.rest/qod.json\")\n",
    "res = r.json()\n",
    "print(json.dumps(res, indent=4))\n",
    "\n",
    "# Extract relevant object and field\n",
    "q = res[\"contents\"][\"quotes\"][0]\n",
    "print(q[\"quote\"], \"\\n--\", q[\"author\"])"
   ]
  },
  {
   "cell_type": "markdown",
   "metadata": {},
   "source": [
    "## Cleaning"
   ]
  },
  {
   "cell_type": "code",
   "execution_count": 4,
   "metadata": {
    "scrolled": true
   },
   "outputs": [
    {
     "name": "stdout",
     "output_type": "stream",
     "text": [
      "<html lang=\"en\" op=\"news\"><head><meta name=\"referrer\" content=\"origin\"><meta name=\"viewport\" content=\"width=device-width, initial-scale=1.0\"><link rel=\"stylesheet\" type=\"text/css\" href=\"news.css?Fx3vuZVosQmWwNFzvdgy\">\n",
      "        <link rel=\"shortcut icon\" href=\"favicon.ico\">\n",
      "          <link rel=\"alternate\" type=\"application/rss+xml\" title=\"RSS\" href=\"rss\">\n",
      "        <title>Hacker News</title></head><body><center><table id=\"hnmain\" border=\"0\" cellpadding=\"0\" cellspacing=\"0\" width=\"85%\" bgcolor=\"#f6f6ef\">\n",
      "        <tr><td bgcolor=\"#ff6600\"><table border=\"0\" cellpadding=\"0\" cellspacing=\"0\" width=\"100%\" style=\"padding:2px\"><tr><td style=\"width:18px;padding-right:4px\"><a href=\"https://news.ycombinator.com\"><img src=\"y18.gif\" width=\"18\" height=\"18\" style=\"border:1px white solid;\"></a></td>\n",
      "                  <td style=\"line-height:12pt; height:10px;\"><span class=\"pagetop\"><b class=\"hnname\"><a href=\"news\">Hacker News</a></b>\n",
      "              <a href=\"newest\">new</a> | <a href=\"front\">past</a> | <a href=\"newcomments\">comments</a> | <a href=\"ask\">ask</a> | <a href=\"show\">show</a> | <a href=\"jobs\">jobs</a> | <a href=\"submit\">submit</a>            </span></td><td style=\"text-align:right;padding-right:4px;\"><span class=\"pagetop\">\n",
      "                              <a href=\"login?goto=news\">login</a>\n",
      "                          </span></td>\n",
      "              </tr></table></td></tr>\n",
      "<tr id=\"pagespace\" title=\"\" style=\"height:10px\"></tr><tr><td><table border=\"0\" cellpadding=\"0\" cellspacing=\"0\" class=\"itemlist\">\n",
      "              <tr class='athing' id='24322861'>\n",
      "      <td align=\"right\" valign=\"top\" class=\"title\"><span class=\"rank\">1.</span></td>      <td valign=\"top\" class=\"votelinks\"><center><a id='up_24322861' href='vote?id=24322861&amp;how=up&amp;goto=news'><div class='votearrow' title='upvote'></div></a></center></td><td class=\"title\"><a href=\"https://puck.nether.net/pipermail/outages/2020-August/013187.html\" class=\"storylink\">Level 3 Global Outage</a><span class=\"sitebit comhead\"> (<a href=\"from?site=nether.net\"><span class=\"sitestr\">nether.net</span></a>)</span></td></tr><tr><td colspan=\"2\"></td><td class=\"subtext\">\n",
      "        <span class=\"score\" id=\"score_24322861\">706 points</span> by <a href=\"user?id=dknecht\" class=\"hnuser\">dknecht</a> <span class=\"age\"><a href=\"item?id=24322861\">8 hours ago</a></span> <span id=\"unv_24322861\"></span> | <a href=\"hide?id=24322861&amp;goto=news\">hide</a> | <a href=\"item?id=24322861\">318&nbsp;comments</a>              </td></tr>\n",
      "      <tr class=\"spacer\" style=\"height:5px\"></tr>\n",
      "                <tr class='athing' id='24324813'>\n",
      "      <td align=\"right\" valign=\"top\" class=\"title\"><span class=\"rank\">2.</span></td>      <td valign=\"top\" class=\"votelinks\"><center><a id='up_24324813' href='vote?id=24324813&amp;how=up&amp;goto=news'><div class='votearrow' title='upvote'></div></a></center></td><td class=\"title\"><a href=\"https://www.rockpapershotgun.com/2020/08/28/players-are-fixing-microsoft-flight-simulators-missing-monuments-with-google-maps/\" class=\"storylink\">Players are fixing Microsoft Flight Simulator’s monuments with Google Maps</a><span class=\"sitebit comhead\"> (<a href=\"from?site=rockpapershotgun.com\"><span class=\"sitestr\">rockpapershotgun.com</span></a>)</span></td></tr><tr><td colspan=\"2\"></td><td class=\"subtext\">\n",
      "        <span class=\"score\" id=\"score_24324813\">93 points</span> by <a href=\"user?id=danso\" class=\"hnuser\">danso</a> <span class=\"age\"><a href=\"item?id=24324813\">2 hours ago</a></span> <span id=\"unv_24324813\"></span> | <a href=\"hide?id=24324813&amp;goto=news\">hide</a> | <a href=\"item?id=24324813\">42&nbsp;comments</a>              </td></tr>\n",
      "      <tr class=\"spacer\" style=\"height:5px\"></tr>\n",
      "                <tr class='athing' id='24323589'>\n",
      "      <td align=\"right\" valign=\"top\" class=\"title\"><span class=\"rank\">3.</span></td>      <td valign=\"top\" class=\"votelinks\"><center><a id='up_24323589' href='vote?id=24323589&amp;how=up&amp;goto=news'><div class='votearrow' title='upvote'></div></a></center></td><td class=\"title\"><a href=\"https://webrtcforthecurious.com/\" class=\"storylink\">Show HN: Learn how WebRTC actually works. A book on the protocols, not just APIs</a><span class=\"sitebit comhead\"> (<a href=\"from?site=webrtcforthecurious.com\"><span class=\"sitestr\">webrtcforthecurious.com</span></a>)</span></td></tr><tr><td colspan=\"2\"></td><td class=\"subtext\">\n",
      "        <span class=\"score\" id=\"score_24323589\">271 points</span> by <a href=\"user?id=Sean-Der\" class=\"hnuser\">Sean-Der</a> <span class=\"age\"><a href=\"item?id=24323589\">5 hours ago</a></span> <span id=\"unv_24323589\"></span> | <a href=\"hide?id=24323589&amp;goto=news\">hide</a> | <a href=\"item?id=24323589\">25&nbsp;comments</a>              </td></tr>\n",
      "      <tr class=\"spacer\" style=\"height:5px\"></tr>\n",
      "                <tr class='athing' id='24324099'>\n",
      "      <td align=\"right\" valign=\"top\" class=\"title\"><span class=\"rank\">4.</span></td>      <td valign=\"top\" class=\"votelinks\"><center><a id='up_24324099' href='vote?id=24324099&amp;how=up&amp;goto=news'><div class='votearrow' title='upvote'></div></a></center></td><td class=\"title\"><a href=\"https://github.com/vinayak-mehta/present\" class=\"storylink\">A terminal-based presentation tool with colors and effects</a><span class=\"sitebit comhead\"> (<a href=\"from?site=github.com\"><span class=\"sitestr\">github.com</span></a>)</span></td></tr><tr><td colspan=\"2\"></td><td class=\"subtext\">\n",
      "        <span class=\"score\" id=\"score_24324099\">138 points</span> by <a href=\"user?id=submeta\" class=\"hnuser\">submeta</a> <span class=\"age\"><a href=\"item?id=24324099\">4 hours ago</a></span> <span id=\"unv_24324099\"></span> | <a href=\"hide?id=24324099&amp;goto=news\">hide</a> | <a href=\"item?id=24324099\">28&nbsp;comments</a>              </td></tr>\n",
      "      <tr class=\"spacer\" style=\"height:5px\"></tr>\n",
      "                <tr class='athing' id='24313724'>\n",
      "      <td align=\"right\" valign=\"top\" class=\"title\"><span class=\"rank\">5.</span></td>      <td valign=\"top\" class=\"votelinks\"><center><a id='up_24313724' href='vote?id=24313724&amp;how=up&amp;goto=news'><div class='votearrow' title='upvote'></div></a></center></td><td class=\"title\"><a href=\"https://blog.archive.org/2020/08/28/the-legend-of-gayblade/\" class=\"storylink\">The Legend of GayBlade</a><span class=\"sitebit comhead\"> (<a href=\"from?site=archive.org\"><span class=\"sitestr\">archive.org</span></a>)</span></td></tr><tr><td colspan=\"2\"></td><td class=\"subtext\">\n",
      "        <span class=\"score\" id=\"score_24313724\">51 points</span> by <a href=\"user?id=polm23\" class=\"hnuser\">polm23</a> <span class=\"age\"><a href=\"item?id=24313724\">2 hours ago</a></span> <span id=\"unv_24313724\"></span> | <a href=\"hide?id=24313724&amp;goto=news\">hide</a> | <a href=\"item?id=24313724\">1&nbsp;comment</a>              </td></tr>\n",
      "      <tr class=\"spacer\" style=\"height:5px\"></tr>\n",
      "                <tr class='athing' id='24324653'>\n",
      "      <td align=\"right\" valign=\"top\" class=\"title\"><span class=\"rank\">6.</span></td>      <td valign=\"top\" class=\"votelinks\"><center><a id='up_24324653' href='vote?id=24324653&amp;how=up&amp;goto=news'><div class='votearrow' title='upvote'></div></a></center></td><td class=\"title\"><a href=\"http://eopl3.com/\" class=\"storylink\">Essentials of Programming Languages</a><span class=\"sitebit comhead\"> (<a href=\"from?site=eopl3.com\"><span class=\"sitestr\">eopl3.com</span></a>)</span></td></tr><tr><td colspan=\"2\"></td><td class=\"subtext\">\n",
      "        <span class=\"score\" id=\"score_24324653\">69 points</span> by <a href=\"user?id=gjvc\" class=\"hnuser\">gjvc</a> <span class=\"age\"><a href=\"item?id=24324653\">3 hours ago</a></span> <span id=\"unv_24324653\"></span> | <a href=\"hide?id=24324653&amp;goto=news\">hide</a> | <a href=\"item?id=24324653\">19&nbsp;comments</a>              </td></tr>\n",
      "      <tr class=\"spacer\" style=\"height:5px\"></tr>\n",
      "                <tr class='athing' id='24323378'>\n",
      "      <td align=\"right\" valign=\"top\" class=\"title\"><span class=\"rank\">7.</span></td>      <td valign=\"top\" class=\"votelinks\"><center><a id='up_24323378' href='vote?id=24323378&amp;how=up&amp;goto=news'><div class='votearrow' title='upvote'></div></a></center></td><td class=\"title\"><a href=\"http://vimacapp.com\" class=\"storylink\">Show HN: Vimac – Productive macOS keyboard-driven navigation</a><span class=\"sitebit comhead\"> (<a href=\"from?site=vimacapp.com\"><span class=\"sitestr\">vimacapp.com</span></a>)</span></td></tr><tr><td colspan=\"2\"></td><td class=\"subtext\">\n",
      "        <span class=\"score\" id=\"score_24323378\">214 points</span> by <a href=\"user?id=dexterleng\" class=\"hnuser\">dexterleng</a> <span class=\"age\"><a href=\"item?id=24323378\">6 hours ago</a></span> <span id=\"unv_24323378\"></span> | <a href=\"hide?id=24323378&amp;goto=news\">hide</a> | <a href=\"item?id=24323378\">43&nbsp;comments</a>              </td></tr>\n",
      "      <tr class=\"spacer\" style=\"height:5px\"></tr>\n",
      "                <tr class='athing' id='24324974'>\n",
      "      <td align=\"right\" valign=\"top\" class=\"title\"><span class=\"rank\">8.</span></td>      <td valign=\"top\" class=\"votelinks\"><center><a id='up_24324974' href='vote?id=24324974&amp;how=up&amp;goto=news'><div class='votearrow' title='upvote'></div></a></center></td><td class=\"title\"><a href=\"https://www.forbes.com/sites/robertbryce/2020/08/23/after-48-years-democrats-endorse-nuclear-energy-in-platform/#3c7687df5829\" class=\"storylink\">After 48 years, Democrats endorse nuclear energy in platform</a><span class=\"sitebit comhead\"> (<a href=\"from?site=forbes.com\"><span class=\"sitestr\">forbes.com</span></a>)</span></td></tr><tr><td colspan=\"2\"></td><td class=\"subtext\">\n",
      "        <span class=\"score\" id=\"score_24324974\">156 points</span> by <a href=\"user?id=elsewhen\" class=\"hnuser\">elsewhen</a> <span class=\"age\"><a href=\"item?id=24324974\">2 hours ago</a></span> <span id=\"unv_24324974\"></span> | <a href=\"hide?id=24324974&amp;goto=news\">hide</a> | <a href=\"item?id=24324974\">108&nbsp;comments</a>              </td></tr>\n",
      "      <tr class=\"spacer\" style=\"height:5px\"></tr>\n",
      "                <tr class='athing' id='24324735'>\n",
      "      <td align=\"right\" valign=\"top\" class=\"title\"><span class=\"rank\">9.</span></td>      <td valign=\"top\" class=\"votelinks\"><center><a id='up_24324735' href='vote?id=24324735&amp;how=up&amp;goto=news'><div class='votearrow' title='upvote'></div></a></center></td><td class=\"title\"><a href=\"https://blog.datawrapper.de/weeklychart-logscale/\" class=\"storylink\">How to Read a Log Scale</a><span class=\"sitebit comhead\"> (<a href=\"from?site=datawrapper.de\"><span class=\"sitestr\">datawrapper.de</span></a>)</span></td></tr><tr><td colspan=\"2\"></td><td class=\"subtext\">\n",
      "        <span class=\"score\" id=\"score_24324735\">38 points</span> by <a href=\"user?id=Solstinox\" class=\"hnuser\">Solstinox</a> <span class=\"age\"><a href=\"item?id=24324735\">3 hours ago</a></span> <span id=\"unv_24324735\"></span> | <a href=\"hide?id=24324735&amp;goto=news\">hide</a> | <a href=\"item?id=24324735\">1&nbsp;comment</a>              </td></tr>\n",
      "      <tr class=\"spacer\" style=\"height:5px\"></tr>\n",
      "                <tr class='athing' id='24323011'>\n",
      "      <td align=\"right\" valign=\"top\" class=\"title\"><span class=\"rank\">10.</span></td>      <td valign=\"top\" class=\"votelinks\"><center><a id='up_24323011' href='vote?id=24323011&amp;how=up&amp;goto=news'><div class='votearrow' title='upvote'></div></a></center></td><td class=\"title\"><a href=\"http://www.amandaghassaei.com/blog/2020/05/01/the-recursive-universe/\" class=\"storylink\">The Recursive Universe</a><span class=\"sitebit comhead\"> (<a href=\"from?site=amandaghassaei.com\"><span class=\"sitestr\">amandaghassaei.com</span></a>)</span></td></tr><tr><td colspan=\"2\"></td><td class=\"subtext\">\n",
      "        <span class=\"score\" id=\"score_24323011\">162 points</span> by <a href=\"user?id=todsacerdoti\" class=\"hnuser\">todsacerdoti</a> <span class=\"age\"><a href=\"item?id=24323011\">7 hours ago</a></span> <span id=\"unv_24323011\"></span> | <a href=\"hide?id=24323011&amp;goto=news\">hide</a> | <a href=\"item?id=24323011\">35&nbsp;comments</a>              </td></tr>\n",
      "      <tr class=\"spacer\" style=\"height:5px\"></tr>\n",
      "                <tr class='athing' id='24323412'>\n",
      "      <td align=\"right\" valign=\"top\" class=\"title\"><span class=\"rank\">11.</span></td>      <td valign=\"top\" class=\"votelinks\"><center><a id='up_24323412' href='vote?id=24323412&amp;how=up&amp;goto=news'><div class='votearrow' title='upvote'></div></a></center></td><td class=\"title\"><a href=\"https://users.csc.calpoly.edu/~jdalbey/SWE/Papers/att_collapse\" class=\"storylink\">All Circuits Are Busy Now: The 1990 AT&T Long Distance Network Collapse (1995)</a><span class=\"sitebit comhead\"> (<a href=\"from?site=calpoly.edu\"><span class=\"sitestr\">calpoly.edu</span></a>)</span></td></tr><tr><td colspan=\"2\"></td><td class=\"subtext\">\n",
      "        <span class=\"score\" id=\"score_24323412\">64 points</span> by <a href=\"user?id=beagle3\" class=\"hnuser\">beagle3</a> <span class=\"age\"><a href=\"item?id=24323412\">6 hours ago</a></span> <span id=\"unv_24323412\"></span> | <a href=\"hide?id=24323412&amp;goto=news\">hide</a> | <a href=\"item?id=24323412\">2&nbsp;comments</a>              </td></tr>\n",
      "      <tr class=\"spacer\" style=\"height:5px\"></tr>\n",
      "                <tr class='athing' id='24324989'>\n",
      "      <td align=\"right\" valign=\"top\" class=\"title\"><span class=\"rank\">12.</span></td>      <td valign=\"top\" class=\"votelinks\"><center><a id='up_24324989' href='vote?id=24324989&amp;how=up&amp;goto=news'><div class='votearrow' title='upvote'></div></a></center></td><td class=\"title\"><a href=\"https://cloud.google.com/workflows/docs/reference/syntax\" class=\"storylink\">Yml Coding</a><span class=\"sitebit comhead\"> (<a href=\"from?site=cloud.google.com\"><span class=\"sitestr\">cloud.google.com</span></a>)</span></td></tr><tr><td colspan=\"2\"></td><td class=\"subtext\">\n",
      "        <span class=\"score\" id=\"score_24324989\">31 points</span> by <a href=\"user?id=undefinednull\" class=\"hnuser\">undefinednull</a> <span class=\"age\"><a href=\"item?id=24324989\">2 hours ago</a></span> <span id=\"unv_24324989\"></span> | <a href=\"hide?id=24324989&amp;goto=news\">hide</a> | <a href=\"item?id=24324989\">34&nbsp;comments</a>              </td></tr>\n",
      "      <tr class=\"spacer\" style=\"height:5px\"></tr>\n",
      "                <tr class='athing' id='24314448'>\n",
      "      <td align=\"right\" valign=\"top\" class=\"title\"><span class=\"rank\">13.</span></td>      <td valign=\"top\" class=\"votelinks\"><center><a id='up_24314448' href='vote?id=24314448&amp;how=up&amp;goto=news'><div class='votearrow' title='upvote'></div></a></center></td><td class=\"title\"><a href=\"https://www.agner.org/optimize/microarchitecture.pdf\" class=\"storylink\">Low-level details of the Zen 2 microarchitecture [pdf]</a><span class=\"sitebit comhead\"> (<a href=\"from?site=agner.org\"><span class=\"sitestr\">agner.org</span></a>)</span></td></tr><tr><td colspan=\"2\"></td><td class=\"subtext\">\n",
      "        <span class=\"score\" id=\"score_24314448\">109 points</span> by <a href=\"user?id=ekoutanov\" class=\"hnuser\">ekoutanov</a> <span class=\"age\"><a href=\"item?id=24314448\">8 hours ago</a></span> <span id=\"unv_24314448\"></span> | <a href=\"hide?id=24314448&amp;goto=news\">hide</a> | <a href=\"item?id=24314448\">9&nbsp;comments</a>              </td></tr>\n",
      "      <tr class=\"spacer\" style=\"height:5px\"></tr>\n",
      "                <tr class='athing' id='24322561'>\n",
      "      <td align=\"right\" valign=\"top\" class=\"title\"><span class=\"rank\">14.</span></td>      <td valign=\"top\" class=\"votelinks\"><center><a id='up_24322561' href='vote?id=24322561&amp;how=up&amp;goto=news'><div class='votearrow' title='upvote'></div></a></center></td><td class=\"title\"><a href=\"https://www.atlasobscura.com/articles/why-do-farms-look-like-circles-from-planes\" class=\"storylink\">The Unexpected Elegance of Irrigation Systems from Above</a><span class=\"sitebit comhead\"> (<a href=\"from?site=atlasobscura.com\"><span class=\"sitestr\">atlasobscura.com</span></a>)</span></td></tr><tr><td colspan=\"2\"></td><td class=\"subtext\">\n",
      "        <span class=\"score\" id=\"score_24322561\">53 points</span> by <a href=\"user?id=pseudolus\" class=\"hnuser\">pseudolus</a> <span class=\"age\"><a href=\"item?id=24322561\">5 hours ago</a></span> <span id=\"unv_24322561\"></span> | <a href=\"hide?id=24322561&amp;goto=news\">hide</a> | <a href=\"item?id=24322561\">24&nbsp;comments</a>              </td></tr>\n",
      "      <tr class=\"spacer\" style=\"height:5px\"></tr>\n",
      "                <tr class='athing' id='24325089'>\n",
      "      <td align=\"right\" valign=\"top\" class=\"title\"><span class=\"rank\">15.</span></td>      <td valign=\"top\" class=\"votelinks\"><center><a id='up_24325089' href='vote?id=24325089&amp;how=up&amp;goto=news'><div class='votearrow' title='upvote'></div></a></center></td><td class=\"title\"><a href=\"https://techcrunch.com/2020/08/27/facebook-vs-apple-ad-tracking/\" class=\"storylink\">Facebook isn’t happy about Apple’s upcoming ad tracking restrictions</a><span class=\"sitebit comhead\"> (<a href=\"from?site=techcrunch.com\"><span class=\"sitestr\">techcrunch.com</span></a>)</span></td></tr><tr><td colspan=\"2\"></td><td class=\"subtext\">\n",
      "        <span class=\"score\" id=\"score_24325089\">69 points</span> by <a href=\"user?id=elorant\" class=\"hnuser\">elorant</a> <span class=\"age\"><a href=\"item?id=24325089\">2 hours ago</a></span> <span id=\"unv_24325089\"></span> | <a href=\"hide?id=24325089&amp;goto=news\">hide</a> | <a href=\"item?id=24325089\">37&nbsp;comments</a>              </td></tr>\n",
      "      <tr class=\"spacer\" style=\"height:5px\"></tr>\n",
      "                <tr class='athing' id='24322607'>\n",
      "      <td align=\"right\" valign=\"top\" class=\"title\"><span class=\"rank\">16.</span></td>      <td valign=\"top\" class=\"votelinks\"><center><a id='up_24322607' href='vote?id=24322607&amp;how=up&amp;goto=news'><div class='votearrow' title='upvote'></div></a></center></td><td class=\"title\"><a href=\"https://thehustle.co/meet-the-menu-engineers-helping-restaurants-retool-during-the-pandemic/\" class=\"storylink\">The “menu engineers” who optimize restaurant revenue</a><span class=\"sitebit comhead\"> (<a href=\"from?site=thehustle.co\"><span class=\"sitestr\">thehustle.co</span></a>)</span></td></tr><tr><td colspan=\"2\"></td><td class=\"subtext\">\n",
      "        <span class=\"score\" id=\"score_24322607\">130 points</span> by <a href=\"user?id=Anon84\" class=\"hnuser\">Anon84</a> <span class=\"age\"><a href=\"item?id=24322607\">10 hours ago</a></span> <span id=\"unv_24322607\"></span> | <a href=\"hide?id=24322607&amp;goto=news\">hide</a> | <a href=\"item?id=24322607\">65&nbsp;comments</a>              </td></tr>\n",
      "      <tr class=\"spacer\" style=\"height:5px\"></tr>\n",
      "                <tr class='athing' id='24324142'>\n",
      "      <td align=\"right\" valign=\"top\" class=\"title\"><span class=\"rank\">17.</span></td>      <td valign=\"top\" class=\"votelinks\"><center><a id='up_24324142' href='vote?id=24324142&amp;how=up&amp;goto=news'><div class='votearrow' title='upvote'></div></a></center></td><td class=\"title\"><a href=\"https://blog.codonomics.com/2020/08/multi-tenant-architectures.html\" class=\"storylink\">Multi-Tenant Architectures</a><span class=\"sitebit comhead\"> (<a href=\"from?site=codonomics.com\"><span class=\"sitestr\">codonomics.com</span></a>)</span></td></tr><tr><td colspan=\"2\"></td><td class=\"subtext\">\n",
      "        <span class=\"score\" id=\"score_24324142\">63 points</span> by <a href=\"user?id=sirkarthik\" class=\"hnuser\">sirkarthik</a> <span class=\"age\"><a href=\"item?id=24324142\">4 hours ago</a></span> <span id=\"unv_24324142\"></span> | <a href=\"hide?id=24324142&amp;goto=news\">hide</a> | <a href=\"item?id=24324142\">40&nbsp;comments</a>              </td></tr>\n",
      "      <tr class=\"spacer\" style=\"height:5px\"></tr>\n",
      "                <tr class='athing' id='24312083'>\n",
      "      <td align=\"right\" valign=\"top\" class=\"title\"><span class=\"rank\">18.</span></td>      <td valign=\"top\" class=\"votelinks\"><center><a id='up_24312083' href='vote?id=24312083&amp;how=up&amp;goto=news'><div class='votearrow' title='upvote'></div></a></center></td><td class=\"title\"><a href=\"https://www.sciencealert.com/a-new-quantum-paradox-throws-the-foundations-of-observed-reality-into-question\" class=\"storylink\">Physicists found a new quantum paradox that casts doubt on a pillar of reality</a><span class=\"sitebit comhead\"> (<a href=\"from?site=sciencealert.com\"><span class=\"sitestr\">sciencealert.com</span></a>)</span></td></tr><tr><td colspan=\"2\"></td><td class=\"subtext\">\n",
      "        <span class=\"score\" id=\"score_24312083\">137 points</span> by <a href=\"user?id=walterbell\" class=\"hnuser\">walterbell</a> <span class=\"age\"><a href=\"item?id=24312083\">12 hours ago</a></span> <span id=\"unv_24312083\"></span> | <a href=\"hide?id=24312083&amp;goto=news\">hide</a> | <a href=\"item?id=24312083\">95&nbsp;comments</a>              </td></tr>\n",
      "      <tr class=\"spacer\" style=\"height:5px\"></tr>\n",
      "                <tr class='athing' id='24314274'>\n",
      "      <td align=\"right\" valign=\"top\" class=\"title\"><span class=\"rank\">19.</span></td>      <td valign=\"top\" class=\"votelinks\"><center><a id='up_24314274' href='vote?id=24314274&amp;how=up&amp;goto=news'><div class='votearrow' title='upvote'></div></a></center></td><td class=\"title\"><a href=\"item?id=24314274\" class=\"storylink\">Ask HN: Has anyone built a SaaS for local municipalities?</a></td></tr><tr><td colspan=\"2\"></td><td class=\"subtext\">\n",
      "        <span class=\"score\" id=\"score_24314274\">41 points</span> by <a href=\"user?id=jokull\" class=\"hnuser\">jokull</a> <span class=\"age\"><a href=\"item?id=24314274\">4 hours ago</a></span> <span id=\"unv_24314274\"></span> | <a href=\"hide?id=24314274&amp;goto=news\">hide</a> | <a href=\"item?id=24314274\">28&nbsp;comments</a>              </td></tr>\n",
      "      <tr class=\"spacer\" style=\"height:5px\"></tr>\n",
      "                <tr class='athing' id='24323564'>\n",
      "      <td align=\"right\" valign=\"top\" class=\"title\"><span class=\"rank\">20.</span></td>      <td valign=\"top\" class=\"votelinks\"><center><a id='up_24323564' href='vote?id=24323564&amp;how=up&amp;goto=news'><div class='votearrow' title='upvote'></div></a></center></td><td class=\"title\"><a href=\"https://utcc.utoronto.ca/~cks/space/blog/programming/GoContextValueMistake\" class=\"storylink\">An interesting mistake with Go's context package</a><span class=\"sitebit comhead\"> (<a href=\"from?site=utoronto.ca\"><span class=\"sitestr\">utoronto.ca</span></a>)</span></td></tr><tr><td colspan=\"2\"></td><td class=\"subtext\">\n",
      "        <span class=\"score\" id=\"score_24323564\">41 points</span> by <a href=\"user?id=pcr910303\" class=\"hnuser\">pcr910303</a> <span class=\"age\"><a href=\"item?id=24323564\">5 hours ago</a></span> <span id=\"unv_24323564\"></span> | <a href=\"hide?id=24323564&amp;goto=news\">hide</a> | <a href=\"item?id=24323564\">47&nbsp;comments</a>              </td></tr>\n",
      "      <tr class=\"spacer\" style=\"height:5px\"></tr>\n",
      "                <tr class='athing' id='24324794'>\n",
      "      <td align=\"right\" valign=\"top\" class=\"title\"><span class=\"rank\">21.</span></td>      <td valign=\"top\" class=\"votelinks\"><center><a id='up_24324794' href='vote?id=24324794&amp;how=up&amp;goto=news'><div class='votearrow' title='upvote'></div></a></center></td><td class=\"title\"><a href=\"https://en.wikipedia.org/wiki/Albanian_Civil_War\" class=\"storylink\">Albanian Civil War</a><span class=\"sitebit comhead\"> (<a href=\"from?site=wikipedia.org\"><span class=\"sitestr\">wikipedia.org</span></a>)</span></td></tr><tr><td colspan=\"2\"></td><td class=\"subtext\">\n",
      "        <span class=\"score\" id=\"score_24324794\">53 points</span> by <a href=\"user?id=apsec112\" class=\"hnuser\">apsec112</a> <span class=\"age\"><a href=\"item?id=24324794\">2 hours ago</a></span> <span id=\"unv_24324794\"></span> | <a href=\"hide?id=24324794&amp;goto=news\">hide</a> | <a href=\"item?id=24324794\">37&nbsp;comments</a>              </td></tr>\n",
      "      <tr class=\"spacer\" style=\"height:5px\"></tr>\n",
      "                <tr class='athing' id='24325548'>\n",
      "      <td align=\"right\" valign=\"top\" class=\"title\"><span class=\"rank\">22.</span></td>      <td valign=\"top\" class=\"votelinks\"><center><a id='up_24325548' href='vote?id=24325548&amp;how=up&amp;goto=news'><div class='votearrow' title='upvote'></div></a></center></td><td class=\"title\"><a href=\"item?id=24325548\" class=\"storylink\">Ask HN: How many of you are employed, self-taught SWEs?</a></td></tr><tr><td colspan=\"2\"></td><td class=\"subtext\">\n",
      "        <span class=\"score\" id=\"score_24325548\">21 points</span> by <a href=\"user?id=pksebben\" class=\"hnuser\">pksebben</a> <span class=\"age\"><a href=\"item?id=24325548\">1 hour ago</a></span> <span id=\"unv_24325548\"></span> | <a href=\"hide?id=24325548&amp;goto=news\">hide</a> | <a href=\"item?id=24325548\">1&nbsp;comment</a>              </td></tr>\n",
      "      <tr class=\"spacer\" style=\"height:5px\"></tr>\n",
      "                <tr class='athing' id='24321471'>\n",
      "      <td align=\"right\" valign=\"top\" class=\"title\"><span class=\"rank\">23.</span></td>      <td valign=\"top\" class=\"votelinks\"><center><a id='up_24321471' href='vote?id=24321471&amp;how=up&amp;goto=news'><div class='votearrow' title='upvote'></div></a></center></td><td class=\"title\"><a href=\"https://medium.com/backchannel/the-crazy-tiny-next-generation-of-computers-17e89e472839\" class=\"storylink\" rel=\"nofollow\">The Crazy-Tiny Next Generation of Computers (2015)</a><span class=\"sitebit comhead\"> (<a href=\"from?site=medium.com\"><span class=\"sitestr\">medium.com</span></a>)</span></td></tr><tr><td colspan=\"2\"></td><td class=\"subtext\">\n",
      "        <span class=\"score\" id=\"score_24321471\">4 points</span> by <a href=\"user?id=apsec112\" class=\"hnuser\">apsec112</a> <span class=\"age\"><a href=\"item?id=24321471\">1 hour ago</a></span> <span id=\"unv_24321471\"></span> | <a href=\"hide?id=24321471&amp;goto=news\">hide</a> | <a href=\"item?id=24321471\">1&nbsp;comment</a>              </td></tr>\n",
      "      <tr class=\"spacer\" style=\"height:5px\"></tr>\n",
      "                <tr class='athing' id='24315471'>\n",
      "      <td align=\"right\" valign=\"top\" class=\"title\"><span class=\"rank\">24.</span></td>      <td valign=\"top\" class=\"votelinks\"><center><a id='up_24315471' href='vote?id=24315471&amp;how=up&amp;goto=news'><div class='votearrow' title='upvote'></div></a></center></td><td class=\"title\"><a href=\"https://www.collabora.com/news-and-blog/blog/2020/08/27/using-the-linux-kernel-case-insensitive-feature-in-ext4/\" class=\"storylink\">Using the Linux kernel's Case-insensitive feature in Ext4</a><span class=\"sitebit comhead\"> (<a href=\"from?site=collabora.com\"><span class=\"sitestr\">collabora.com</span></a>)</span></td></tr><tr><td colspan=\"2\"></td><td class=\"subtext\">\n",
      "        <span class=\"score\" id=\"score_24315471\">45 points</span> by <a href=\"user?id=mfilion\" class=\"hnuser\">mfilion</a> <span class=\"age\"><a href=\"item?id=24315471\">9 hours ago</a></span> <span id=\"unv_24315471\"></span> | <a href=\"hide?id=24315471&amp;goto=news\">hide</a> | <a href=\"item?id=24315471\">53&nbsp;comments</a>              </td></tr>\n",
      "      <tr class=\"spacer\" style=\"height:5px\"></tr>\n",
      "                <tr class='athing' id='24323379'>\n",
      "      <td align=\"right\" valign=\"top\" class=\"title\"><span class=\"rank\">25.</span></td>      <td valign=\"top\" class=\"votelinks\"><center><a id='up_24323379' href='vote?id=24323379&amp;how=up&amp;goto=news'><div class='votearrow' title='upvote'></div></a></center></td><td class=\"title\"><a href=\"https://www.propublica.org/article/they-know-how-to-prevent-megafires-why-wont-anybody-listen/\" class=\"storylink\">We Know How to Prevent Megafires</a><span class=\"sitebit comhead\"> (<a href=\"from?site=propublica.org\"><span class=\"sitestr\">propublica.org</span></a>)</span></td></tr><tr><td colspan=\"2\"></td><td class=\"subtext\">\n",
      "        <span class=\"score\" id=\"score_24323379\">104 points</span> by <a href=\"user?id=philips\" class=\"hnuser\">philips</a> <span class=\"age\"><a href=\"item?id=24323379\">5 hours ago</a></span> <span id=\"unv_24323379\"></span> | <a href=\"hide?id=24323379&amp;goto=news\">hide</a> | <a href=\"item?id=24323379\">65&nbsp;comments</a>              </td></tr>\n",
      "      <tr class=\"spacer\" style=\"height:5px\"></tr>\n",
      "                <tr class='athing' id='24322069'>\n",
      "      <td align=\"right\" valign=\"top\" class=\"title\"><span class=\"rank\">26.</span></td>      <td valign=\"top\" class=\"votelinks\"><center><a id='up_24322069' href='vote?id=24322069&amp;how=up&amp;goto=news'><div class='votearrow' title='upvote'></div></a></center></td><td class=\"title\"><a href=\"https://www.notion.so/Horcrux-Encrypted-Messaging-78af0a3f326244ebb0aedff7c298953d\" class=\"storylink\">Horcrux Encrypted Messaging</a><span class=\"sitebit comhead\"> (<a href=\"from?site=notion.so\"><span class=\"sitestr\">notion.so</span></a>)</span></td></tr><tr><td colspan=\"2\"></td><td class=\"subtext\">\n",
      "        <span class=\"score\" id=\"score_24322069\">53 points</span> by <a href=\"user?id=ljlolel\" class=\"hnuser\">ljlolel</a> <span class=\"age\"><a href=\"item?id=24322069\">12 hours ago</a></span> <span id=\"unv_24322069\"></span> | <a href=\"hide?id=24322069&amp;goto=news\">hide</a> | <a href=\"item?id=24322069\">86&nbsp;comments</a>              </td></tr>\n",
      "      <tr class=\"spacer\" style=\"height:5px\"></tr>\n",
      "                <tr class='athing' id='24314599'>\n",
      "      <td align=\"right\" valign=\"top\" class=\"title\"><span class=\"rank\">27.</span></td>      <td valign=\"top\" class=\"votelinks\"><center><a id='up_24314599' href='vote?id=24314599&amp;how=up&amp;goto=news'><div class='votearrow' title='upvote'></div></a></center></td><td class=\"title\"><a href=\"https://gizmodo.com/the-tech-my-dad-banned-from-our-house-1844777825\" class=\"storylink\">Tech my dad banned in our house when I was a kid</a><span class=\"sitebit comhead\"> (<a href=\"from?site=gizmodo.com\"><span class=\"sitestr\">gizmodo.com</span></a>)</span></td></tr><tr><td colspan=\"2\"></td><td class=\"subtext\">\n",
      "        <span class=\"score\" id=\"score_24314599\">37 points</span> by <a href=\"user?id=BerislavLopac\" class=\"hnuser\">BerislavLopac</a> <span class=\"age\"><a href=\"item?id=24314599\">5 hours ago</a></span> <span id=\"unv_24314599\"></span> | <a href=\"hide?id=24314599&amp;goto=news\">hide</a> | <a href=\"item?id=24314599\">60&nbsp;comments</a>              </td></tr>\n",
      "      <tr class=\"spacer\" style=\"height:5px\"></tr>\n",
      "                <tr class='athing' id='24315057'>\n",
      "      <td align=\"right\" valign=\"top\" class=\"title\"><span class=\"rank\">28.</span></td>      <td valign=\"top\" class=\"votelinks\"><center><a id='up_24315057' href='vote?id=24315057&amp;how=up&amp;goto=news'><div class='votearrow' title='upvote'></div></a></center></td><td class=\"title\"><a href=\"http://www.howardism.org/Technical/Emacs/literate-devops.html\" class=\"storylink\">Literate DevOps</a><span class=\"sitebit comhead\"> (<a href=\"from?site=howardism.org\"><span class=\"sitestr\">howardism.org</span></a>)</span></td></tr><tr><td colspan=\"2\"></td><td class=\"subtext\">\n",
      "        <span class=\"score\" id=\"score_24315057\">157 points</span> by <a href=\"user?id=geocar\" class=\"hnuser\">geocar</a> <span class=\"age\"><a href=\"item?id=24315057\">14 hours ago</a></span> <span id=\"unv_24315057\"></span> | <a href=\"hide?id=24315057&amp;goto=news\">hide</a> | <a href=\"item?id=24315057\">70&nbsp;comments</a>              </td></tr>\n",
      "      <tr class=\"spacer\" style=\"height:5px\"></tr>\n",
      "                <tr class='athing' id='24321799'>\n",
      "      <td align=\"right\" valign=\"top\" class=\"title\"><span class=\"rank\">29.</span></td>      <td valign=\"top\" class=\"votelinks\"><center><a id='up_24321799' href='vote?id=24321799&amp;how=up&amp;goto=news'><div class='votearrow' title='upvote'></div></a></center></td><td class=\"title\"><a href=\"https://worksinprogress.co/issue/the-rise-and-fall-of-the-american-rd-lab/\" class=\"storylink\">The rise and fall of the industrial R&D lab</a><span class=\"sitebit comhead\"> (<a href=\"from?site=worksinprogress.co\"><span class=\"sitestr\">worksinprogress.co</span></a>)</span></td></tr><tr><td colspan=\"2\"></td><td class=\"subtext\">\n",
      "        <span class=\"score\" id=\"score_24321799\">128 points</span> by <a href=\"user?id=npalli\" class=\"hnuser\">npalli</a> <span class=\"age\"><a href=\"item?id=24321799\">14 hours ago</a></span> <span id=\"unv_24321799\"></span> | <a href=\"hide?id=24321799&amp;goto=news\">hide</a> | <a href=\"item?id=24321799\">70&nbsp;comments</a>              </td></tr>\n",
      "      <tr class=\"spacer\" style=\"height:5px\"></tr>\n",
      "                <tr class='athing' id='24320717'>\n",
      "      <td align=\"right\" valign=\"top\" class=\"title\"><span class=\"rank\">30.</span></td>      <td valign=\"top\" class=\"votelinks\"><center><a id='up_24320717' href='vote?id=24320717&amp;how=up&amp;goto=news'><div class='votearrow' title='upvote'></div></a></center></td><td class=\"title\"><a href=\"https://www.the-tls.co.uk/articles/frank-ramsey-a-more-human-philosophy/\" class=\"storylink\" rel=\"nofollow\">Frank Ramsey: A more human philosophy</a><span class=\"sitebit comhead\"> (<a href=\"from?site=the-tls.co.uk\"><span class=\"sitestr\">the-tls.co.uk</span></a>)</span></td></tr><tr><td colspan=\"2\"></td><td class=\"subtext\">\n",
      "        <span class=\"score\" id=\"score_24320717\">11 points</span> by <a href=\"user?id=Petiver\" class=\"hnuser\">Petiver</a> <span class=\"age\"><a href=\"item?id=24320717\">3 hours ago</a></span> <span id=\"unv_24320717\"></span> | <a href=\"hide?id=24320717&amp;goto=news\">hide</a> | <a href=\"item?id=24320717\">1&nbsp;comment</a>              </td></tr>\n",
      "      <tr class=\"spacer\" style=\"height:5px\"></tr>\n",
      "            <tr class=\"morespace\" style=\"height:10px\"></tr><tr><td colspan=\"2\"></td><td class=\"title\"><a href=\"news?p=2\" class=\"morelink\" rel=\"next\">More</a></td></tr>\n",
      "  </table>\n",
      "</td></tr>\n",
      "<tr><td><img src=\"s.gif\" height=\"10\" width=\"0\"><table width=\"100%\" cellspacing=\"0\" cellpadding=\"1\"><tr><td bgcolor=\"#ff6600\"></td></tr></table><br><center><span class=\"yclinks\"><a href=\"newsguidelines.html\">Guidelines</a>\n",
      "        | <a href=\"newsfaq.html\">FAQ</a>\n",
      "        | <a href=\"mailto:hn@ycombinator.com\">Support</a>\n",
      "        | <a href=\"https://github.com/HackerNews/API\">API</a>\n",
      "        | <a href=\"security.html\">Security</a>\n",
      "        | <a href=\"lists\">Lists</a>\n",
      "        | <a href=\"bookmarklet.html\" rel=\"nofollow\">Bookmarklet</a>\n",
      "        | <a href=\"http://www.ycombinator.com/legal/\">Legal</a>\n",
      "        | <a href=\"http://www.ycombinator.com/apply/\">Apply to YC</a>\n",
      "        | <a href=\"mailto:hn@ycombinator.com\">Contact</a></span><br><br><form method=\"get\" action=\"//hn.algolia.com/\">Search:\n",
      "          <input type=\"text\" name=\"q\" value=\"\" size=\"17\" autocorrect=\"off\" spellcheck=\"false\" autocapitalize=\"off\" autocomplete=\"false\"></form>\n",
      "            </center></td></tr>\n",
      "      </table></center></body><script type='text/javascript' src='hn.js?Fx3vuZVosQmWwNFzvdgy'></script></html>\n",
      "\n"
     ]
    }
   ],
   "source": [
    "import requests\n",
    "\n",
    "# Fetch a web page\n",
    "r = requests.get(\"https://news.ycombinator.com\")\n",
    "print(r.text)"
   ]
  },
  {
   "cell_type": "code",
   "execution_count": 5,
   "metadata": {},
   "outputs": [
    {
     "name": "stdout",
     "output_type": "stream",
     "text": [
      "\n",
      "        \n",
      "          \n",
      "        Hacker News\n",
      "        \n",
      "                  Hacker News\n",
      "              new | past | comments | ask | show | jobs | submit            \n",
      "                              login\n",
      "                          \n",
      "              \n",
      "\n",
      "              \n",
      "      1.      Level 3 Global Outage (nether.net)\n",
      "        706 points by dknecht 8 hours ago  | hide | 318&nbsp;comments              \n",
      "      \n",
      "                \n",
      "      2.      Players are fixing Microsoft Flight Simulator’s monuments with Google Maps (rockpapershotgun.com)\n",
      "        93 points by danso 2 hours ago  | hide | 42&nbsp;comments              \n",
      "      \n",
      "                \n",
      "      3.      Show HN: Learn how WebRTC actually works. A book on the protocols, not just APIs (webrtcforthecurious.com)\n",
      "        271 points by Sean-Der 5 hours ago  | hide | 25&nbsp;comments              \n",
      "      \n",
      "                \n",
      "      4.      A terminal-based presentation tool with colors and effects (github.com)\n",
      "        138 points by submeta 4 hours ago  | hide | 28&nbsp;comments              \n",
      "      \n",
      "                \n",
      "      5.      The Legend of GayBlade (archive.org)\n",
      "        51 points by polm23 2 hours ago  | hide | 1&nbsp;comment              \n",
      "      \n",
      "                \n",
      "      6.      Essentials of Programming Languages (eopl3.com)\n",
      "        69 points by gjvc 3 hours ago  | hide | 19&nbsp;comments              \n",
      "      \n",
      "                \n",
      "      7.      Show HN: Vimac – Productive macOS keyboard-driven navigation (vimacapp.com)\n",
      "        214 points by dexterleng 6 hours ago  | hide | 43&nbsp;comments              \n",
      "      \n",
      "                \n",
      "      8.      After 48 years, Democrats endorse nuclear energy in platform (forbes.com)\n",
      "        156 points by elsewhen 2 hours ago  | hide | 108&nbsp;comments              \n",
      "      \n",
      "                \n",
      "      9.      How to Read a Log Scale (datawrapper.de)\n",
      "        38 points by Solstinox 3 hours ago  | hide | 1&nbsp;comment              \n",
      "      \n",
      "                \n",
      "      10.      The Recursive Universe (amandaghassaei.com)\n",
      "        162 points by todsacerdoti 7 hours ago  | hide | 35&nbsp;comments              \n",
      "      \n",
      "                \n",
      "      11.      All Circuits Are Busy Now: The 1990 AT&T Long Distance Network Collapse (1995) (calpoly.edu)\n",
      "        64 points by beagle3 6 hours ago  | hide | 2&nbsp;comments              \n",
      "      \n",
      "                \n",
      "      12.      Yml Coding (cloud.google.com)\n",
      "        31 points by undefinednull 2 hours ago  | hide | 34&nbsp;comments              \n",
      "      \n",
      "                \n",
      "      13.      Low-level details of the Zen 2 microarchitecture [pdf] (agner.org)\n",
      "        109 points by ekoutanov 8 hours ago  | hide | 9&nbsp;comments              \n",
      "      \n",
      "                \n",
      "      14.      The Unexpected Elegance of Irrigation Systems from Above (atlasobscura.com)\n",
      "        53 points by pseudolus 5 hours ago  | hide | 24&nbsp;comments              \n",
      "      \n",
      "                \n",
      "      15.      Facebook isn’t happy about Apple’s upcoming ad tracking restrictions (techcrunch.com)\n",
      "        69 points by elorant 2 hours ago  | hide | 37&nbsp;comments              \n",
      "      \n",
      "                \n",
      "      16.      The “menu engineers” who optimize restaurant revenue (thehustle.co)\n",
      "        130 points by Anon84 10 hours ago  | hide | 65&nbsp;comments              \n",
      "      \n",
      "                \n",
      "      17.      Multi-Tenant Architectures (codonomics.com)\n",
      "        63 points by sirkarthik 4 hours ago  | hide | 40&nbsp;comments              \n",
      "      \n",
      "                \n",
      "      18.      Physicists found a new quantum paradox that casts doubt on a pillar of reality (sciencealert.com)\n",
      "        137 points by walterbell 12 hours ago  | hide | 95&nbsp;comments              \n",
      "      \n",
      "                \n",
      "      19.      Ask HN: Has anyone built a SaaS for local municipalities?\n",
      "        41 points by jokull 4 hours ago  | hide | 28&nbsp;comments              \n",
      "      \n",
      "                \n",
      "      20.      An interesting mistake with Go's context package (utoronto.ca)\n",
      "        41 points by pcr910303 5 hours ago  | hide | 47&nbsp;comments              \n",
      "      \n",
      "                \n",
      "      21.      Albanian Civil War (wikipedia.org)\n",
      "        53 points by apsec112 2 hours ago  | hide | 37&nbsp;comments              \n",
      "      \n",
      "                \n",
      "      22.      Ask HN: How many of you are employed, self-taught SWEs?\n",
      "        21 points by pksebben 1 hour ago  | hide | 1&nbsp;comment              \n",
      "      \n",
      "                \n",
      "      23.      The Crazy-Tiny Next Generation of Computers (2015) (medium.com)\n",
      "        4 points by apsec112 1 hour ago  | hide | 1&nbsp;comment              \n",
      "      \n",
      "                \n",
      "      24.      Using the Linux kernel's Case-insensitive feature in Ext4 (collabora.com)\n",
      "        45 points by mfilion 9 hours ago  | hide | 53&nbsp;comments              \n",
      "      \n",
      "                \n",
      "      25.      We Know How to Prevent Megafires (propublica.org)\n",
      "        104 points by philips 5 hours ago  | hide | 65&nbsp;comments              \n",
      "      \n",
      "                \n",
      "      26.      Horcrux Encrypted Messaging (notion.so)\n",
      "        53 points by ljlolel 12 hours ago  | hide | 86&nbsp;comments              \n",
      "      \n",
      "                \n",
      "      27.      Tech my dad banned in our house when I was a kid (gizmodo.com)\n",
      "        37 points by BerislavLopac 5 hours ago  | hide | 60&nbsp;comments              \n",
      "      \n",
      "                \n",
      "      28.      Literate DevOps (howardism.org)\n",
      "        157 points by geocar 14 hours ago  | hide | 70&nbsp;comments              \n",
      "      \n",
      "                \n",
      "      29.      The rise and fall of the industrial R&D lab (worksinprogress.co)\n",
      "        128 points by npalli 14 hours ago  | hide | 70&nbsp;comments              \n",
      "      \n",
      "                \n",
      "      30.      Frank Ramsey: A more human philosophy (the-tls.co.uk)\n",
      "        11 points by Petiver 3 hours ago  | hide | 1&nbsp;comment              \n",
      "      \n",
      "            More\n",
      "  \n",
      "\n",
      "Guidelines\n",
      "        | FAQ\n",
      "        | Support\n",
      "        | API\n",
      "        | Security\n",
      "        | Lists\n",
      "        | Bookmarklet\n",
      "        | Legal\n",
      "        | Apply to YC\n",
      "        | ContactSearch:\n",
      "          \n",
      "            \n",
      "      \n",
      "\n"
     ]
    }
   ],
   "source": [
    "import re\n",
    "\n",
    "# Remove HTML tags using RegEx\n",
    "pattern = re.compile(r'<.*?>')  # tags look like <...>\n",
    "print(pattern.sub('', r.text))  # replace them with blank"
   ]
  },
  {
   "cell_type": "code",
   "execution_count": 6,
   "metadata": {},
   "outputs": [
    {
     "name": "stdout",
     "output_type": "stream",
     "text": [
      "\n",
      "        \n",
      "          \n",
      "        Hacker News\n",
      "        \n",
      "                  Hacker News\n",
      "              new | past | comments | ask | show | jobs | submit            \n",
      "                              login\n",
      "                          \n",
      "              \n",
      "\n",
      "              \n",
      "      1.      Level 3 Global Outage (nether.net)\n",
      "        706 points by dknecht 8 hours ago  | hide | 318 comments              \n",
      "      \n",
      "                \n",
      "      2.      Players are fixing Microsoft Flight Simulator’s monuments with Google Maps (rockpapershotgun.com)\n",
      "        93 points by danso 2 hours ago  | hide | 42 comments              \n",
      "      \n",
      "                \n",
      "      3.      Show HN: Learn how WebRTC actually works. A book on the protocols, not just APIs (webrtcforthecurious.com)\n",
      "        271 points by Sean-Der 5 hours ago  | hide | 25 comments              \n",
      "      \n",
      "                \n",
      "      4.      A terminal-based presentation tool with colors and effects (github.com)\n",
      "        138 points by submeta 4 hours ago  | hide | 28 comments              \n",
      "      \n",
      "                \n",
      "      5.      The Legend of GayBlade (archive.org)\n",
      "        51 points by polm23 2 hours ago  | hide | 1 comment              \n",
      "      \n",
      "                \n",
      "      6.      Essentials of Programming Languages (eopl3.com)\n",
      "        69 points by gjvc 3 hours ago  | hide | 19 comments              \n",
      "      \n",
      "                \n",
      "      7.      Show HN: Vimac – Productive macOS keyboard-driven navigation (vimacapp.com)\n",
      "        214 points by dexterleng 6 hours ago  | hide | 43 comments              \n",
      "      \n",
      "                \n",
      "      8.      After 48 years, Democrats endorse nuclear energy in platform (forbes.com)\n",
      "        156 points by elsewhen 2 hours ago  | hide | 108 comments              \n",
      "      \n",
      "                \n",
      "      9.      How to Read a Log Scale (datawrapper.de)\n",
      "        38 points by Solstinox 3 hours ago  | hide | 1 comment              \n",
      "      \n",
      "                \n",
      "      10.      The Recursive Universe (amandaghassaei.com)\n",
      "        162 points by todsacerdoti 7 hours ago  | hide | 35 comments              \n",
      "      \n",
      "                \n",
      "      11.      All Circuits Are Busy Now: The 1990 AT&T Long Distance Network Collapse (1995) (calpoly.edu)\n",
      "        64 points by beagle3 6 hours ago  | hide | 2 comments              \n",
      "      \n",
      "                \n",
      "      12.      Yml Coding (cloud.google.com)\n",
      "        31 points by undefinednull 2 hours ago  | hide | 34 comments              \n",
      "      \n",
      "                \n",
      "      13.      Low-level details of the Zen 2 microarchitecture [pdf] (agner.org)\n",
      "        109 points by ekoutanov 8 hours ago  | hide | 9 comments              \n",
      "      \n",
      "                \n",
      "      14.      The Unexpected Elegance of Irrigation Systems from Above (atlasobscura.com)\n",
      "        53 points by pseudolus 5 hours ago  | hide | 24 comments              \n",
      "      \n",
      "                \n",
      "      15.      Facebook isn’t happy about Apple’s upcoming ad tracking restrictions (techcrunch.com)\n",
      "        69 points by elorant 2 hours ago  | hide | 37 comments              \n",
      "      \n",
      "                \n",
      "      16.      The “menu engineers” who optimize restaurant revenue (thehustle.co)\n",
      "        130 points by Anon84 10 hours ago  | hide | 65 comments              \n",
      "      \n",
      "                \n",
      "      17.      Multi-Tenant Architectures (codonomics.com)\n",
      "        63 points by sirkarthik 4 hours ago  | hide | 40 comments              \n",
      "      \n",
      "                \n",
      "      18.      Physicists found a new quantum paradox that casts doubt on a pillar of reality (sciencealert.com)\n",
      "        137 points by walterbell 12 hours ago  | hide | 95 comments              \n",
      "      \n",
      "                \n",
      "      19.      Ask HN: Has anyone built a SaaS for local municipalities?\n",
      "        41 points by jokull 4 hours ago  | hide | 28 comments              \n",
      "      \n",
      "                \n",
      "      20.      An interesting mistake with Go's context package (utoronto.ca)\n",
      "        41 points by pcr910303 5 hours ago  | hide | 47 comments              \n",
      "      \n",
      "                \n",
      "      21.      Albanian Civil War (wikipedia.org)\n",
      "        53 points by apsec112 2 hours ago  | hide | 37 comments              \n",
      "      \n",
      "                \n",
      "      22.      Ask HN: How many of you are employed, self-taught SWEs?\n",
      "        21 points by pksebben 1 hour ago  | hide | 1 comment              \n",
      "      \n",
      "                \n",
      "      23.      The Crazy-Tiny Next Generation of Computers (2015) (medium.com)\n",
      "        4 points by apsec112 1 hour ago  | hide | 1 comment              \n",
      "      \n",
      "                \n",
      "      24.      Using the Linux kernel's Case-insensitive feature in Ext4 (collabora.com)\n",
      "        45 points by mfilion 9 hours ago  | hide | 53 comments              \n",
      "      \n",
      "                \n",
      "      25.      We Know How to Prevent Megafires (propublica.org)\n",
      "        104 points by philips 5 hours ago  | hide | 65 comments              \n",
      "      \n",
      "                \n",
      "      26.      Horcrux Encrypted Messaging (notion.so)\n",
      "        53 points by ljlolel 12 hours ago  | hide | 86 comments              \n",
      "      \n",
      "                \n",
      "      27.      Tech my dad banned in our house when I was a kid (gizmodo.com)\n",
      "        37 points by BerislavLopac 5 hours ago  | hide | 60 comments              \n",
      "      \n",
      "                \n",
      "      28.      Literate DevOps (howardism.org)\n",
      "        157 points by geocar 14 hours ago  | hide | 70 comments              \n",
      "      \n",
      "                \n",
      "      29.      The rise and fall of the industrial R&D lab (worksinprogress.co)\n",
      "        128 points by npalli 14 hours ago  | hide | 70 comments              \n",
      "      \n",
      "                \n",
      "      30.      Frank Ramsey: A more human philosophy (the-tls.co.uk)\n",
      "        11 points by Petiver 3 hours ago  | hide | 1 comment              \n",
      "      \n",
      "            More\n",
      "  \n",
      "\n",
      "Guidelines\n",
      "        | FAQ\n",
      "        | Support\n",
      "        | API\n",
      "        | Security\n",
      "        | Lists\n",
      "        | Bookmarklet\n",
      "        | Legal\n",
      "        | Apply to YC\n",
      "        | ContactSearch:\n",
      "          \n",
      "            \n",
      "      \n",
      "\n"
     ]
    }
   ],
   "source": [
    "from bs4 import BeautifulSoup\n",
    "\n",
    "# Remove HTML tags using Beautiful Soup library\n",
    "soup = BeautifulSoup(r.text, \"html5lib\")\n",
    "print(soup.get_text())"
   ]
  },
  {
   "cell_type": "code",
   "execution_count": 7,
   "metadata": {
    "scrolled": true
   },
   "outputs": [
    {
     "data": {
      "text/plain": [
       "<tr class=\"athing\" id=\"24322861\">\n",
       "      <td align=\"right\" class=\"title\" valign=\"top\"><span class=\"rank\">1.</span></td>      <td class=\"votelinks\" valign=\"top\"><center><a href=\"vote?id=24322861&amp;how=up&amp;goto=news\" id=\"up_24322861\"><div class=\"votearrow\" title=\"upvote\"></div></a></center></td><td class=\"title\"><a class=\"storylink\" href=\"https://puck.nether.net/pipermail/outages/2020-August/013187.html\">Level 3 Global Outage</a><span class=\"sitebit comhead\"> (<a href=\"from?site=nether.net\"><span class=\"sitestr\">nether.net</span></a>)</span></td></tr>"
      ]
     },
     "execution_count": 7,
     "metadata": {},
     "output_type": "execute_result"
    }
   ],
   "source": [
    "# Find all articles\n",
    "summaries = soup.find_all(\"tr\", class_=\"athing\")\n",
    "summaries[0]"
   ]
  },
  {
   "cell_type": "code",
   "execution_count": 8,
   "metadata": {},
   "outputs": [
    {
     "data": {
      "text/plain": [
       "'Level 3 Global Outage'"
      ]
     },
     "execution_count": 8,
     "metadata": {},
     "output_type": "execute_result"
    }
   ],
   "source": [
    "# Extract title\n",
    "summaries[0].find(\"a\", class_=\"storylink\").get_text().strip()"
   ]
  },
  {
   "cell_type": "code",
   "execution_count": 9,
   "metadata": {},
   "outputs": [
    {
     "name": "stdout",
     "output_type": "stream",
     "text": [
      "30 Article summaries found. Sample:\n",
      "Level 3 Global Outage\n"
     ]
    }
   ],
   "source": [
    "# Find all articles, extract titles\n",
    "articles = []\n",
    "summaries = soup.find_all(\"tr\", class_=\"athing\")\n",
    "for summary in summaries:\n",
    "    title = summary.find(\"a\", class_=\"storylink\").get_text().strip()\n",
    "    articles.append((title))\n",
    "\n",
    "print(len(articles), \"Article summaries found. Sample:\")\n",
    "print(articles[0])"
   ]
  },
  {
   "cell_type": "markdown",
   "metadata": {
    "collapsed": true
   },
   "source": [
    "## Normalization"
   ]
  },
  {
   "cell_type": "markdown",
   "metadata": {},
   "source": [
    "### Case Normalization"
   ]
  },
  {
   "cell_type": "code",
   "execution_count": 10,
   "metadata": {},
   "outputs": [
    {
     "name": "stdout",
     "output_type": "stream",
     "text": [
      "The first time you see The Second Renaissance it may look boring. Look at it at least twice and definitely watch part 2. It will change your view of the matrix. Are the human people the ones who started the war ? Is AI a bad thing ?\n"
     ]
    }
   ],
   "source": [
    "# Sample text\n",
    "text = \"The first time you see The Second Renaissance it may look boring. Look at it at least twice and definitely watch part 2. It will change your view of the matrix. Are the human people the ones who started the war ? Is AI a bad thing ?\"\n",
    "print(text)"
   ]
  },
  {
   "cell_type": "code",
   "execution_count": 11,
   "metadata": {},
   "outputs": [
    {
     "name": "stdout",
     "output_type": "stream",
     "text": [
      "the first time you see the second renaissance it may look boring. look at it at least twice and definitely watch part 2. it will change your view of the matrix. are the human people the ones who started the war ? is ai a bad thing ?\n"
     ]
    }
   ],
   "source": [
    "# Convert to lowercase\n",
    "text = text.lower() \n",
    "print(text)"
   ]
  },
  {
   "cell_type": "markdown",
   "metadata": {},
   "source": [
    "### Punctuation Removal"
   ]
  },
  {
   "cell_type": "code",
   "execution_count": 12,
   "metadata": {},
   "outputs": [
    {
     "name": "stdout",
     "output_type": "stream",
     "text": [
      "the first time you see the second renaissance it may look boring  look at it at least twice and definitely watch part 2  it will change your view of the matrix  are the human people the ones who started the war   is ai a bad thing  \n"
     ]
    }
   ],
   "source": [
    "import re\n",
    "\n",
    "# Remove punctuation characters\n",
    "text = re.sub(r\"[^a-zA-Z0-9]\", \" \", text) \n",
    "print(text)"
   ]
  },
  {
   "cell_type": "markdown",
   "metadata": {},
   "source": [
    "## Tokenization"
   ]
  },
  {
   "cell_type": "code",
   "execution_count": 13,
   "metadata": {},
   "outputs": [
    {
     "name": "stdout",
     "output_type": "stream",
     "text": [
      "['the', 'first', 'time', 'you', 'see', 'the', 'second', 'renaissance', 'it', 'may', 'look', 'boring', 'look', 'at', 'it', 'at', 'least', 'twice', 'and', 'definitely', 'watch', 'part', '2', 'it', 'will', 'change', 'your', 'view', 'of', 'the', 'matrix', 'are', 'the', 'human', 'people', 'the', 'ones', 'who', 'started', 'the', 'war', 'is', 'ai', 'a', 'bad', 'thing']\n"
     ]
    }
   ],
   "source": [
    "# Split text into tokens (words)\n",
    "words = text.split()\n",
    "print(words)"
   ]
  },
  {
   "cell_type": "markdown",
   "metadata": {},
   "source": [
    "### NLTK: Natural Language ToolKit"
   ]
  },
  {
   "cell_type": "code",
   "execution_count": 14,
   "metadata": {},
   "outputs": [],
   "source": [
    "import os\n",
    "import nltk\n",
    "nltk.data.path.append(os.path.join(os.getcwd(), \"nltk_data\"))"
   ]
  },
  {
   "cell_type": "code",
   "execution_count": 15,
   "metadata": {},
   "outputs": [
    {
     "name": "stdout",
     "output_type": "stream",
     "text": [
      "Dr. Smith graduated from the University of Washington. He later started an analytics firm called Lux, which catered to enterprise customers.\n"
     ]
    }
   ],
   "source": [
    "# Another sample text\n",
    "text = \"Dr. Smith graduated from the University of Washington. He later started an analytics firm called Lux, which catered to enterprise customers.\"\n",
    "print(text)"
   ]
  },
  {
   "cell_type": "code",
   "execution_count": 16,
   "metadata": {},
   "outputs": [
    {
     "name": "stdout",
     "output_type": "stream",
     "text": [
      "['Dr.', 'Smith', 'graduated', 'from', 'the', 'University', 'of', 'Washington', '.', 'He', 'later', 'started', 'an', 'analytics', 'firm', 'called', 'Lux', ',', 'which', 'catered', 'to', 'enterprise', 'customers', '.']\n"
     ]
    }
   ],
   "source": [
    "from nltk.tokenize import word_tokenize\n",
    "\n",
    "# Split text into words using NLTK\n",
    "words = word_tokenize(text)\n",
    "print(words)"
   ]
  },
  {
   "cell_type": "code",
   "execution_count": 17,
   "metadata": {},
   "outputs": [
    {
     "name": "stdout",
     "output_type": "stream",
     "text": [
      "['Dr. Smith graduated from the University of Washington.', 'He later started an analytics firm called Lux, which catered to enterprise customers.']\n"
     ]
    }
   ],
   "source": [
    "from nltk.tokenize import sent_tokenize\n",
    "\n",
    "# Split text into sentences\n",
    "sentences = sent_tokenize(text)\n",
    "print(sentences)"
   ]
  },
  {
   "cell_type": "code",
   "execution_count": 18,
   "metadata": {},
   "outputs": [
    {
     "name": "stdout",
     "output_type": "stream",
     "text": [
      "['i', 'me', 'my', 'myself', 'we', 'our', 'ours', 'ourselves', 'you', \"you're\", \"you've\", \"you'll\", \"you'd\", 'your', 'yours', 'yourself', 'yourselves', 'he', 'him', 'his', 'himself', 'she', \"she's\", 'her', 'hers', 'herself', 'it', \"it's\", 'its', 'itself', 'they', 'them', 'their', 'theirs', 'themselves', 'what', 'which', 'who', 'whom', 'this', 'that', \"that'll\", 'these', 'those', 'am', 'is', 'are', 'was', 'were', 'be', 'been', 'being', 'have', 'has', 'had', 'having', 'do', 'does', 'did', 'doing', 'a', 'an', 'the', 'and', 'but', 'if', 'or', 'because', 'as', 'until', 'while', 'of', 'at', 'by', 'for', 'with', 'about', 'against', 'between', 'into', 'through', 'during', 'before', 'after', 'above', 'below', 'to', 'from', 'up', 'down', 'in', 'out', 'on', 'off', 'over', 'under', 'again', 'further', 'then', 'once', 'here', 'there', 'when', 'where', 'why', 'how', 'all', 'any', 'both', 'each', 'few', 'more', 'most', 'other', 'some', 'such', 'no', 'nor', 'not', 'only', 'own', 'same', 'so', 'than', 'too', 'very', 's', 't', 'can', 'will', 'just', 'don', \"don't\", 'should', \"should've\", 'now', 'd', 'll', 'm', 'o', 're', 've', 'y', 'ain', 'aren', \"aren't\", 'couldn', \"couldn't\", 'didn', \"didn't\", 'doesn', \"doesn't\", 'hadn', \"hadn't\", 'hasn', \"hasn't\", 'haven', \"haven't\", 'isn', \"isn't\", 'ma', 'mightn', \"mightn't\", 'mustn', \"mustn't\", 'needn', \"needn't\", 'shan', \"shan't\", 'shouldn', \"shouldn't\", 'wasn', \"wasn't\", 'weren', \"weren't\", 'won', \"won't\", 'wouldn', \"wouldn't\"]\n"
     ]
    }
   ],
   "source": [
    "# List stop words\n",
    "from nltk.corpus import stopwords\n",
    "print(stopwords.words(\"english\"))"
   ]
  },
  {
   "cell_type": "code",
   "execution_count": 19,
   "metadata": {},
   "outputs": [
    {
     "name": "stdout",
     "output_type": "stream",
     "text": [
      "['the', 'first', 'time', 'you', 'see', 'the', 'second', 'renaissance', 'it', 'may', 'look', 'boring', 'look', 'at', 'it', 'at', 'least', 'twice', 'and', 'definitely', 'watch', 'part', '2', 'it', 'will', 'change', 'your', 'view', 'of', 'the', 'matrix', 'are', 'the', 'human', 'people', 'the', 'ones', 'who', 'started', 'the', 'war', 'is', 'ai', 'a', 'bad', 'thing']\n"
     ]
    }
   ],
   "source": [
    "# Reset text\n",
    "text = \"The first time you see The Second Renaissance it may look boring. Look at it at least twice and definitely watch part 2. It will change your view of the matrix. Are the human people the ones who started the war ? Is AI a bad thing ?\"\n",
    "\n",
    "# Normalize it\n",
    "text = re.sub(r\"[^a-zA-Z0-9]\", \" \", text.lower())\n",
    "\n",
    "# Tokenize it\n",
    "words = text.split()\n",
    "print(words)"
   ]
  },
  {
   "cell_type": "code",
   "execution_count": 20,
   "metadata": {},
   "outputs": [
    {
     "name": "stdout",
     "output_type": "stream",
     "text": [
      "['first', 'time', 'see', 'second', 'renaissance', 'may', 'look', 'boring', 'look', 'least', 'twice', 'definitely', 'watch', 'part', '2', 'change', 'view', 'matrix', 'human', 'people', 'ones', 'started', 'war', 'ai', 'bad', 'thing']\n"
     ]
    }
   ],
   "source": [
    "# Remove stop words\n",
    "words = [w for w in words if w not in stopwords.words(\"english\")]\n",
    "print(words)"
   ]
  },
  {
   "cell_type": "markdown",
   "metadata": {},
   "source": [
    "### Sentence Parsing"
   ]
  },
  {
   "cell_type": "code",
   "execution_count": 21,
   "metadata": {},
   "outputs": [
    {
     "name": "stdout",
     "output_type": "stream",
     "text": [
      "(S\n",
      "  (NP I)\n",
      "  (VP\n",
      "    (VP (V shot) (NP (Det an) (N elephant)))\n",
      "    (PP (P in) (NP (Det my) (N pajamas)))))\n",
      "(S\n",
      "  (NP I)\n",
      "  (VP\n",
      "    (V shot)\n",
      "    (NP (Det an) (N elephant) (PP (P in) (NP (Det my) (N pajamas))))))\n"
     ]
    }
   ],
   "source": [
    "import nltk\n",
    "\n",
    "# Define a custom grammar\n",
    "my_grammar = nltk.CFG.fromstring(\"\"\"\n",
    "S -> NP VP\n",
    "PP -> P NP\n",
    "NP -> Det N | Det N PP | 'I'\n",
    "VP -> V NP | VP PP\n",
    "Det -> 'an' | 'my'\n",
    "N -> 'elephant' | 'pajamas'\n",
    "V -> 'shot'\n",
    "P -> 'in'\n",
    "\"\"\")\n",
    "parser = nltk.ChartParser(my_grammar)\n",
    "\n",
    "# Parse a sentence\n",
    "sentence = word_tokenize(\"I shot an elephant in my pajamas\")\n",
    "for tree in parser.parse(sentence):\n",
    "    print(tree)"
   ]
  },
  {
   "cell_type": "markdown",
   "metadata": {},
   "source": [
    "## Stemming & Lemmatization\n",
    "\n",
    "### Stemming"
   ]
  },
  {
   "cell_type": "code",
   "execution_count": 22,
   "metadata": {},
   "outputs": [
    {
     "name": "stdout",
     "output_type": "stream",
     "text": [
      "['first', 'time', 'see', 'second', 'renaiss', 'may', 'look', 'bore', 'look', 'least', 'twice', 'definit', 'watch', 'part', '2', 'chang', 'view', 'matrix', 'human', 'peopl', 'one', 'start', 'war', 'ai', 'bad', 'thing']\n"
     ]
    }
   ],
   "source": [
    "from nltk.stem.porter import PorterStemmer\n",
    "\n",
    "# Reduce words to their stems\n",
    "stemmed = [PorterStemmer().stem(w) for w in words]\n",
    "print(stemmed)"
   ]
  },
  {
   "cell_type": "markdown",
   "metadata": {},
   "source": [
    "### Lemmatization"
   ]
  },
  {
   "cell_type": "code",
   "execution_count": 23,
   "metadata": {},
   "outputs": [
    {
     "name": "stdout",
     "output_type": "stream",
     "text": [
      "['first', 'time', 'see', 'second', 'renaissance', 'may', 'look', 'boring', 'look', 'least', 'twice', 'definitely', 'watch', 'part', '2', 'change', 'view', 'matrix', 'human', 'people', 'one', 'started', 'war', 'ai', 'bad', 'thing']\n"
     ]
    }
   ],
   "source": [
    "from nltk.stem.wordnet import WordNetLemmatizer\n",
    "\n",
    "# Reduce words to their root form\n",
    "lemmed = [WordNetLemmatizer().lemmatize(w) for w in words]\n",
    "print(lemmed)"
   ]
  },
  {
   "cell_type": "code",
   "execution_count": 24,
   "metadata": {},
   "outputs": [
    {
     "name": "stdout",
     "output_type": "stream",
     "text": [
      "['first', 'time', 'see', 'second', 'renaissance', 'may', 'look', 'bore', 'look', 'least', 'twice', 'definitely', 'watch', 'part', '2', 'change', 'view', 'matrix', 'human', 'people', 'one', 'start', 'war', 'ai', 'bad', 'thing']\n"
     ]
    }
   ],
   "source": [
    "# Lemmatize verbs by specifying pos\n",
    "lemmed = [WordNetLemmatizer().lemmatize(w, pos='v') for w in lemmed]\n",
    "print(lemmed)"
   ]
  },
  {
   "cell_type": "code",
   "execution_count": null,
   "metadata": {},
   "outputs": [],
   "source": []
  }
 ],
 "metadata": {
  "kernelspec": {
   "display_name": "Python 3",
   "language": "python",
   "name": "python3"
  },
  "language_info": {
   "codemirror_mode": {
    "name": "ipython",
    "version": 3
   },
   "file_extension": ".py",
   "mimetype": "text/x-python",
   "name": "python",
   "nbconvert_exporter": "python",
   "pygments_lexer": "ipython3",
   "version": "3.6.3"
  }
 },
 "nbformat": 4,
 "nbformat_minor": 2
}
